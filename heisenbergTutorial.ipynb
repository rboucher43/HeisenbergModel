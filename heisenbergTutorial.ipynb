{
  "nbformat": 4,
  "nbformat_minor": 0,
  "metadata": {
    "colab": {
      "name": "heisenbergTutorial.ipynb",
      "provenance": [],
      "collapsed_sections": []
    },
    "kernelspec": {
      "name": "python3",
      "display_name": "Python 3"
    }
  },
  "cells": [
    {
      "cell_type": "code",
      "metadata": {
        "id": "RphqAzgz5k_G"
      },
      "source": [
        "import heisenbergModel"
      ],
      "execution_count": null,
      "outputs": []
    },
    {
      "cell_type": "code",
      "metadata": {
        "id": "eeGD2PW15oMv"
      },
      "source": [
        " #Heisenberg model object initialized with 1000 electrons, exchange constant of 1, 100,000 Monte Carlo steps\n",
        " #from x we can simulate all dimensions for both the Heisenberg and Ising model. This line uses Default settings\n",
        " #with no applied magnetic field and a positive exchange constant \n",
        " x = heisenbergModel(1000,1,100000)\n"
      ],
      "execution_count": null,
      "outputs": []
    },
    {
      "cell_type": "code",
      "metadata": {
        "id": "pXWUdZbi6L82"
      },
      "source": [
        "#This line shows how we can simulate any dimension lattice with the Heisenberg model.\n",
        "#This line will plot the ground state lattice and return the array\n",
        "#low energy of the ground state lattice for the three cases\n",
        "x.threeDimensions([10,10,10])\n",
        "x.twoDimensions([100,10])\n",
        "x.oneDimension([1000])\n"
      ],
      "execution_count": null,
      "outputs": []
    },
    {
      "cell_type": "code",
      "metadata": {
        "id": "XRkmvp1k7hyE"
      },
      "source": [
        "#This line creates a 3D Heisenberg model lattice with an applied magnetic field in the z direction\n",
        "#This line also creates the Monte Carlo energy distribution \n",
        "#Warning: calculating Monte Carlo distribution vastly increases computation time\n",
        "x = heisenbergModel(1000, 1, 100000, magneticField = [0,0,1], monteCarlo = True).threeDimensions([10,10,10])\n"
      ],
      "execution_count": null,
      "outputs": []
    },
    {
      "cell_type": "code",
      "metadata": {
        "id": "AkoTvO0dM1Nl"
      },
      "source": [
        "#This line creates and plots the 3D Ising model lattice. \n",
        "x = heisenbergModel(1000, 1, 100000, heisenberg = False).threeDimensions([10,10,10])"
      ],
      "execution_count": null,
      "outputs": []
    },
    {
      "cell_type": "code",
      "metadata": {
        "id": "Kg6nBhe9O1qx"
      },
      "source": [
        "#For other dimension simulations merely use the two dimension methods like so\n",
        "#This line creates a 15x16 lattice with an applied magnetic field and positive\n",
        "#exchange constant \n",
        "x = heisenbergModel(240, 1, 100000, plotBool=True, heisenberg=True, magneticField=[0,1]).twoDimensions([15, 16])\n"
      ],
      "execution_count": null,
      "outputs": []
    },
    {
      "cell_type": "code",
      "metadata": {
        "id": "nTYcWybcSFGP"
      },
      "source": [
        "#Finally the class also supports the one-dimensional toy model for Heisenberg and Ising\n",
        "x = heisenbergModel(1200,-1,10000, heisenberg=(False)).oneDimension()\n"
      ],
      "execution_count": null,
      "outputs": []
    }
  ]
}